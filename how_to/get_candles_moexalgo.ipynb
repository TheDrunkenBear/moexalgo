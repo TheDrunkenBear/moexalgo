{
  "nbformat": 4,
  "nbformat_minor": 0,
  "metadata": {
    "colab": {
      "provenance": [],
      "authorship_tag": "ABX9TyM0gkP1ynTlSJoQ0Zf9IG4F",
      "include_colab_link": true
    },
    "kernelspec": {
      "name": "python3",
      "display_name": "Python 3"
    },
    "language_info": {
      "name": "python"
    }
  },
  "cells": [
    {
      "cell_type": "markdown",
      "metadata": {
        "id": "view-in-github",
        "colab_type": "text"
      },
      "source": [
        "<a href=\"https://colab.research.google.com/gist/moexalgo/4e398c6e932deffc52a633aa8fdd0909/get_candles_moexalgo.ipynb\" target=\"_parent\"><img src=\"https://colab.research.google.com/assets/colab-badge.svg\" alt=\"Open In Colab\"/></a>"
      ]
    },
    {
      "cell_type": "markdown",
      "source": [
        "# Получение свечей из Algopack через библиотеку moexalgo"
      ],
      "metadata": {
        "id": "K_OddhA1q-zf"
      }
    },
    {
      "cell_type": "markdown",
      "source": [
        "В качестве примера выгрузим исторические дневные свечи по акциям Сбербанка (SBER) за весь 2025 год с использованием библиотеки moexalgo и API Algopack"
      ],
      "metadata": {
        "id": "2ALaE-78q_kX"
      }
    },
    {
      "cell_type": "markdown",
      "source": [
        "### Зачем это может быть нужно\n",
        "Дневные свечи — это основа для технического анализа и бэктестинга торговых стратегий. Они содержат цены открытия, закрытия, максимум, минимум и объём торгов за день."
      ],
      "metadata": {
        "id": "G9iN9Xuoq_m7"
      }
    },
    {
      "cell_type": "markdown",
      "source": [
        "### Описание метода API\n",
        "Метод candles() библиотеки moexalgo позволяет получать исторические свечи с различными таймфреймами:\n",
        "*   1min\n",
        "*   10min\n",
        "*   1h\n",
        "*   1d (день)\n",
        "*   1w (неделя)\n",
        "*   1m (меясц)\n",
        "\n",
        "Особенности и ограничения:\n",
        "*   Лимит на выдачу данных: 10000 строк\n",
        "*   Данные доступны с момента листинга инструмента на бирже (чаще всего)\n",
        "*   Большие периоды нужно делить на меньшие"
      ],
      "metadata": {
        "id": "VrUCyuZLq_p7"
      }
    },
    {
      "cell_type": "code",
      "execution_count": 5,
      "metadata": {
        "colab": {
          "base_uri": "https://localhost:8080/"
        },
        "id": "v0NUl9_lq6hR",
        "outputId": "6634bf45-e6b6-434b-8181-25530620362b"
      },
      "outputs": [
        {
          "output_type": "stream",
          "name": "stdout",
          "text": [
            "Первые 5 записей:\n",
            "     open   close    high     low         value      volume      begin  \\\n",
            "0  280.00  272.25  280.41  271.80  1.185357e+10  43086870.0 2025-01-03   \n",
            "1  270.88  274.37  274.41  270.07  7.737094e+09  28454750.0 2025-01-06   \n",
            "2  273.07  277.00  277.87  273.07  7.356165e+09  26634660.0 2025-01-08   \n",
            "3  276.71  271.80  278.77  270.73  1.449133e+10  52952880.0 2025-01-09   \n",
            "4  272.31  278.77  279.53  270.27  1.962313e+10  71154220.0 2025-01-10   \n",
            "\n",
            "                  end  \n",
            "0 2025-01-03 23:59:59  \n",
            "1 2025-01-06 23:59:59  \n",
            "2 2025-01-08 23:59:59  \n",
            "3 2025-01-09 23:59:59  \n",
            "4 2025-01-10 23:59:59  \n",
            "\n",
            "Всего получено записей: 219\n",
            "Период: с 2025-01-03 00:00:00 по 2025-09-12 14:39:49\n",
            "Данные сохранены в файл sber_candles_2025.csv\n"
          ]
        }
      ],
      "source": [
        "# Установка библиотеки (если еще не установлена)\n",
        "# pip install moexalgo\n",
        "\n",
        "from moexalgo import Ticker, session\n",
        "import pandas as pd\n",
        "\n",
        "# Авторизация (замените на ваш токен из личного кабинета https://data.moex.com/products/algopack)\n",
        "session.TOKEN = 'eyJhbGciOiJSUzI1NiIsInR5cCIgOiAiS...ваш_токен'\n",
        "\n",
        "# Создаем объект тикера\n",
        "sber = Ticker('SBER')\n",
        "\n",
        "# Получаем дневные свечи за 2025 год\n",
        "candles_data = sber.candles(\n",
        "    start='2025-01-01',    # Начальная дата\n",
        "    end='2025-12-31',      # Конечная дата\n",
        "    period='1d'            # Дневные свечи\n",
        ")\n",
        "\n",
        "# Преобразуем в DataFrame для удобной работы\n",
        "df = pd.DataFrame(candles_data)\n",
        "\n",
        "# Выводим первые 5 строк для проверки\n",
        "print(\"Первые 5 записей:\")\n",
        "print(df.head())\n",
        "\n",
        "# Выводим общую информацию о данных\n",
        "print(f\"\\nВсего получено записей: {len(df)}\")\n",
        "print(f\"Период: с {df['begin'].min()} по {df['end'].max()}\")\n",
        "\n",
        "# Сохраняем данные в CSV файл (опционально)\n",
        "df.to_csv('sber_candles_2025.csv', index=False)\n",
        "print(\"Данные сохранены в файл sber_candles_2025.csv\")"
      ]
    },
    {
      "cell_type": "code",
      "source": [],
      "metadata": {
        "id": "BlDpiroDt5hw"
      },
      "execution_count": null,
      "outputs": []
    }
  ]
}